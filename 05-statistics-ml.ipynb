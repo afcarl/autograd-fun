{
 "cells": [
  {
   "cell_type": "markdown",
   "metadata": {},
   "source": [
    "# Gradient-Base Optimization in Statistics"
   ]
  },
  {
   "cell_type": "code",
   "execution_count": 1,
   "metadata": {
    "ExecuteTime": {
     "end_time": "2017-12-29T19:02:56.481124Z",
     "start_time": "2017-12-29T19:02:55.291919Z"
    }
   },
   "outputs": [],
   "source": [
    "import autograd.numpy as np\n",
    "import autograd.numpy.random as npr\n",
    "from autograd import elementwise_grad as egrad\n",
    "import matplotlib.pyplot as plt\n",
    "from autograd.misc.optimizers import adam\n",
    "\n",
    "%load_ext autoreload\n",
    "%autoreload 2\n",
    "%matplotlib inline\n",
    "%config InlineBackend.figure_format = 'retina'"
   ]
  },
  {
   "cell_type": "markdown",
   "metadata": {},
   "source": [
    "Linear and logistic regression are common models implemented in statistics. When we train a linear model, we are essentially optimizing weights with respect to the loss function.\n",
    "\n",
    "Let's look at logistic regression for classification purposes. Logistic regression builds upon linear regression, by adding a sigmoid function after a linear transformation. In the simplified example below (which eliminates bias terms, and only keeps weight terms):\n",
    "\n",
    "$$ y = \\text{sigmoid}(w \\cdot x) $$\n",
    "\n",
    "$ w $ is the weights vector, $ x $ is the data, in $ y $ is the output.\n",
    "\n",
    "The sigmoid function is defined as such:\n",
    "\n",
    "$$ \\text{sigmoid}(x) = \\frac{\\text{tanh}(x) + 1}{2} $$\n",
    "\n",
    "By using the logistic prediction function, we get class probabilities. \n",
    "\n",
    "For classification problems, we often use cross entropy as the loss function. Cross entropy is defined as:\n",
    "\n",
    "$$ -(y \\text{log}(p) + (1-y) \\text{log}(1-p)) $$\n",
    "\n",
    "Where $ y $ is the actual class (1 or zero), and $ p $ is predicted value."
   ]
  },
  {
   "cell_type": "code",
   "execution_count": 2,
   "metadata": {
    "ExecuteTime": {
     "end_time": "2017-12-29T19:03:01.021310Z",
     "start_time": "2017-12-29T19:03:00.640296Z"
    }
   },
   "outputs": [
    {
     "name": "stdout",
     "output_type": "stream",
     "text": [
      "Initial loss: 2.77258872224\n",
      "Trained loss: 0.208380885015\n"
     ]
    }
   ],
   "source": [
    "import autograd.numpy as np\n",
    "from autograd import grad\n",
    "\n",
    "def sigmoid(x):\n",
    "    return 0.5*(np.tanh(x) + 1)\n",
    "\n",
    "def logistic_predictions(weights, inputs):\n",
    "    # Outputs probability of a label being true according to logistic model.\n",
    "    return sigmoid(np.dot(inputs, weights))\n",
    "\n",
    "def training_loss(weights):\n",
    "    # Training loss is the negative log-likelihood of the training labels.\n",
    "    preds = logistic_predictions(weights, inputs)\n",
    "    label_probabilities = preds * targets + (1 - preds) * (1 - targets)\n",
    "    return -np.sum(np.log(label_probabilities))\n",
    "\n",
    "# Build a toy dataset.\n",
    "inputs = np.array([[0.52, 1.12,  0.77],\n",
    "                   [0.88, -1.08, 0.15],\n",
    "                   [0.52, 0.06, -1.30],\n",
    "                   [0.74, -2.49, 1.39]])\n",
    "targets = np.array([True, True, False, True])\n",
    "\n",
    "# Define a function that returns gradients of training loss using Autograd.\n",
    "training_gradient_fun = grad(training_loss)\n",
    "\n",
    "# Optimize weights using gradient descent.\n",
    "weights = np.array([0.0, 0.0, 0.0])\n",
    "print(\"Initial loss:\", training_loss(weights))\n",
    "for i in range(200):\n",
    "    weights -= training_gradient_fun(weights) * 0.01\n",
    "\n",
    "print(\"Trained loss:\",  training_loss(weights))"
   ]
  },
  {
   "cell_type": "markdown",
   "metadata": {},
   "source": [
    "Let's try a toy linear regression problem. Make some fake data."
   ]
  },
  {
   "cell_type": "code",
   "execution_count": 14,
   "metadata": {
    "ExecuteTime": {
     "end_time": "2017-12-29T19:05:08.222598Z",
     "start_time": "2017-12-29T19:05:07.975399Z"
    }
   },
   "outputs": [
    {
     "data": {
      "text/plain": [
       "<matplotlib.collections.PathCollection at 0x1134c2cc0>"
      ]
     },
     "execution_count": 14,
     "metadata": {},
     "output_type": "execute_result"
    },
    {
     "data": {
      "image/png": "[encoded data removed]",
      "text/plain": [
       "<matplotlib.figure.Figure at 0x113246b70>"
      ]
     },
     "metadata": {
      "image/png": {
       "height": 250,
       "width": 385
      }
     },
     "output_type": "display_data"
    }
   ],
   "source": [
    "# Params:\n",
    "M = 20\n",
    "C = 4 \n",
    "x = np.linspace(-10, 10, 50)\n",
    "y = M * x  + C + npr.normal(size=50)* 10\n",
    "plt.scatter(x, y)"
   ]
  },
  {
   "cell_type": "markdown",
   "metadata": {
    "ExecuteTime": {
     "end_time": "2017-12-29T19:04:36.691938Z",
     "start_time": "2017-12-29T19:04:36.649813Z"
    }
   },
   "source": [
    "The error function for linear regression is mean squared error.\n",
    "\n",
    "$$ \\frac{\\sum \\hat y - y}{n} $$"
   ]
  },
  {
   "cell_type": "code",
   "execution_count": null,
   "metadata": {},
   "outputs": [],
   "source": [
    "def loss(params):\n",
    "    "
   ]
  }
 ],
 "metadata": {
  "kernelspec": {
   "display_name": "autograd",
   "language": "python",
   "name": "autograd"
  },
  "language_info": {
   "codemirror_mode": {
    "name": "ipython",
    "version": 3
   },
   "file_extension": ".py",
   "mimetype": "text/x-python",
   "name": "python",
   "nbconvert_exporter": "python",
   "pygments_lexer": "ipython3",
   "version": "3.6.4"
  },
  "toc": {
   "nav_menu": {},
   "number_sections": true,
   "sideBar": true,
   "skip_h1_title": false,
   "toc_cell": false,
   "toc_position": {},
   "toc_section_display": "block",
   "toc_window_display": false
  },
  "varInspector": {
   "cols": {
    "lenName": 16,
    "lenType": 16,
    "lenVar": 40
   },
   "kernels_config": {
    "python": {
     "delete_cmd_postfix": "",
     "delete_cmd_prefix": "del ",
     "library": "var_list.py",
     "varRefreshCmd": "print(var_dic_list())"
    },
    "r": {
     "delete_cmd_postfix": ") ",
     "delete_cmd_prefix": "rm(",
     "library": "var_list.r",
     "varRefreshCmd": "cat(var_dic_list()) "
    }
   },
   "types_to_exclude": [
    "module",
    "function",
    "builtin_function_or_method",
    "instance",
    "_Feature"
   ],
   "window_display": false
  }
 },
 "nbformat": 4,
 "nbformat_minor": 2
}
