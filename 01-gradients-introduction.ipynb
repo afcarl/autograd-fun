{
 "cells": [
  {
   "cell_type": "markdown",
   "metadata": {
    "hide_input": false
   },
   "source": [
    "# Gradients\n",
    "\n",
    "Gradients are ubiquitous, and are most succinctly defined as:\n",
    "\n",
    "> For every unit/infinitesimal increase in a quantity, how much do I increase a linked quantity?\n",
    "\n",
    "Or, in terms almost everyone should have seen:\n",
    "\n",
    "> For every unit/infinitesimal increase in $ x $, how much do I increase $ y $?\n",
    "\n",
    "Gradients, also known as **derivatives**, can be defined for functions. If $ y = f(x) $ ($ y $ is a function of $ x $), and if $ f(x) $ is differentiable, then we can compute the value of the gradient at any given $ x $."
   ]
  },
  {
   "cell_type": "code",
   "execution_count": 1,
   "metadata": {
    "ExecuteTime": {
     "end_time": "2017-12-29T17:50:25.722945Z",
     "start_time": "2017-12-29T17:50:25.104954Z"
    }
   },
   "outputs": [],
   "source": [
    "import autograd.numpy as np\n",
    "from autograd import elementwise_grad as egrad\n",
    "from autograd import grad"
   ]
  },
  {
   "cell_type": "code",
   "execution_count": 43,
   "metadata": {
    "ExecuteTime": {
     "end_time": "2017-12-22T16:08:30.228926Z",
     "start_time": "2017-12-22T16:08:30.220331Z"
    },
    "scrolled": true
   },
   "outputs": [
    {
     "name": "stderr",
     "output_type": "stream",
     "text": [
      "/Users/ericmjl/anaconda/envs/autograd/lib/python3.6/site-packages/autograd/tracer.py:14: UserWarning: Output seems independent of input.\n",
      "  warnings.warn(\"Output seems independent of input.\")\n"
     ]
    },
    {
     "data": {
      "text/plain": [
       "array(0.0)"
      ]
     },
     "execution_count": 43,
     "metadata": {},
     "output_type": "execute_result"
    }
   ],
   "source": [
    "def constant(x):\n",
    "    return 3.0\n",
    "\n",
    "constant_grad = egrad(constant)\n",
    "\n",
    "constant_grad(1.0)"
   ]
  },
  {
   "cell_type": "markdown",
   "metadata": {},
   "source": [
    "From first-year calculus, we know that the derivative of $ y = Ax $ is $ A $. Using autograd, we can check this."
   ]
  },
  {
   "cell_type": "code",
   "execution_count": 38,
   "metadata": {
    "ExecuteTime": {
     "end_time": "2017-12-22T16:08:00.191555Z",
     "start_time": "2017-12-22T16:08:00.179120Z"
    }
   },
   "outputs": [
    {
     "data": {
      "text/plain": [
       "3.0"
      ]
     },
     "execution_count": 38,
     "metadata": {},
     "output_type": "execute_result"
    }
   ],
   "source": [
    "def linear(x):\n",
    "    return 3 * x\n",
    "\n",
    "linear_grad = egrad(linear)\n",
    "\n",
    "linear_grad(1.0)"
   ]
  },
  {
   "cell_type": "markdown",
   "metadata": {},
   "source": [
    "From first-year calculus, we also know the gradient of polynomials! For example, the gradient of \n",
    "\n",
    "$$ y = Ax^2 + Bx + C $$ \n",
    "\n",
    "is \n",
    "\n",
    "$$ \\frac{dy}{dx} = 2Ax + B $$\n",
    "\n",
    "When $ x = 2 $, $ A = 3 $, $ B = 5 $ and $ C = 1 $, the value of the gradient is 17."
   ]
  },
  {
   "cell_type": "code",
   "execution_count": 46,
   "metadata": {
    "ExecuteTime": {
     "end_time": "2017-12-22T16:32:23.928583Z",
     "start_time": "2017-12-22T16:32:23.919418Z"
    }
   },
   "outputs": [
    {
     "data": {
      "text/plain": [
       "17.0"
      ]
     },
     "execution_count": 46,
     "metadata": {},
     "output_type": "execute_result"
    }
   ],
   "source": [
    "def polynomial(x):\n",
    "    return 3 * np.power(x, 2) + 5 * x + 1\n",
    "\n",
    "polynomial_grad = egrad(polynomial)\n",
    "polynomial_grad(2.0)"
   ]
  }
 ],
 "metadata": {
  "kernelspec": {
   "display_name": "autograd",
   "language": "python",
   "name": "autograd"
  },
  "language_info": {
   "codemirror_mode": {
    "name": "ipython",
    "version": 3
   },
   "file_extension": ".py",
   "mimetype": "text/x-python",
   "name": "python",
   "nbconvert_exporter": "python",
   "pygments_lexer": "ipython3",
   "version": "3.6.4"
  },
  "toc": {
   "nav_menu": {},
   "number_sections": true,
   "sideBar": true,
   "skip_h1_title": false,
   "toc_cell": false,
   "toc_position": {},
   "toc_section_display": "block",
   "toc_window_display": false
  },
  "varInspector": {
   "cols": {
    "lenName": 16,
    "lenType": 16,
    "lenVar": 40
   },
   "kernels_config": {
    "python": {
     "delete_cmd_postfix": "",
     "delete_cmd_prefix": "del ",
     "library": "var_list.py",
     "varRefreshCmd": "print(var_dic_list())"
    },
    "r": {
     "delete_cmd_postfix": ") ",
     "delete_cmd_prefix": "rm(",
     "library": "var_list.r",
     "varRefreshCmd": "cat(var_dic_list()) "
    }
   },
   "types_to_exclude": [
    "module",
    "function",
    "builtin_function_or_method",
    "instance",
    "_Feature"
   ],
   "window_display": false
  }
 },
 "nbformat": 4,
 "nbformat_minor": 2
}
